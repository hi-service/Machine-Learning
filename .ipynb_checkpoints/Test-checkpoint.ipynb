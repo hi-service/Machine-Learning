{
 "cells": [
  {
   "cell_type": "code",
   "execution_count": 3,
   "id": "a87bf6dd",
   "metadata": {},
   "outputs": [],
   "source": [
    "import tensorflow as tf\n",
    "from tensorflow.keras.preprocessing.text import Tokenizer\n",
    "from tensorflow.keras.preprocessing.sequence import pad_sequences\n",
    "from sklearn.model_selection import train_test_split\n",
    "import numpy as np\n",
    "import pandas as pd"
   ]
  },
  {
   "cell_type": "code",
   "execution_count": 4,
   "id": "f07d739a",
   "metadata": {},
   "outputs": [
    {
     "ename": "NameError",
     "evalue": "name 'pd' is not defined",
     "output_type": "error",
     "traceback": [
      "\u001b[1;31m---------------------------------------------------------------------------\u001b[0m",
      "\u001b[1;31mNameError\u001b[0m                                 Traceback (most recent call last)",
      "\u001b[1;32m~\\AppData\\Local\\Temp\\ipykernel_8420\\1322900330.py\u001b[0m in \u001b[0;36m<module>\u001b[1;34m\u001b[0m\n\u001b[0;32m     28\u001b[0m \u001b[1;33m\u001b[0m\u001b[0m\n\u001b[0;32m     29\u001b[0m \u001b[1;33m\u001b[0m\u001b[0m\n\u001b[1;32m---> 30\u001b[1;33m \u001b[0mdf\u001b[0m \u001b[1;33m=\u001b[0m \u001b[0mpd\u001b[0m\u001b[1;33m.\u001b[0m\u001b[0mDataFrame\u001b[0m\u001b[1;33m(\u001b[0m\u001b[0mdata\u001b[0m\u001b[1;33m)\u001b[0m\u001b[1;33m\u001b[0m\u001b[1;33m\u001b[0m\u001b[0m\n\u001b[0m",
      "\u001b[1;31mNameError\u001b[0m: name 'pd' is not defined"
     ]
    }
   ],
   "source": [
    "# Data dummy, Anda perlu mengganti dengan data sebenarnya\n",
    "data = {\n",
    "    'gejala': [\n",
    "        'Mesin tidak bisa dinyalakan',\n",
    "        'Bau asap keluar dari mesin',\n",
    "        'Bunyi mesin aneh',\n",
    "        'Mesin bergetar secara tidak normal',\n",
    "        'Motor panas berlebihan',\n",
    "        'Bunyi berdecit saat berkendara',\n",
    "        'Rem tidak berfungsi',\n",
    "        'Motor tersendat-sendat',\n",
    "        'Bocor oli',\n",
    "        # Tambahkan gejala lain sesuai kebutuhan\n",
    "    ],\n",
    "    'kerusakan': [\n",
    "        'Mesin',\n",
    "        'Mesin',\n",
    "        'Mesin',\n",
    "        'Kelistrikan',\n",
    "        'Kelistrikan',\n",
    "        'Kelistrikan',\n",
    "        'Sistem Rem',\n",
    "        'Sistem Rem',\n",
    "        'Sistem Rem',\n",
    "        # Tambahkan label lain sesuai kebutuhan\n",
    "    ]\n",
    "}\n",
    "\n",
    "df = pd.DataFrame(data)"
   ]
  },
  {
   "cell_type": "code",
   "execution_count": 2,
   "id": "acbfeeec",
   "metadata": {},
   "outputs": [
    {
     "ename": "NameError",
     "evalue": "name 'train_test_split' is not defined",
     "output_type": "error",
     "traceback": [
      "\u001b[1;31m---------------------------------------------------------------------------\u001b[0m",
      "\u001b[1;31mNameError\u001b[0m                                 Traceback (most recent call last)",
      "\u001b[1;32m~\\AppData\\Local\\Temp\\ipykernel_8420\\404883976.py\u001b[0m in \u001b[0;36m<module>\u001b[1;34m\u001b[0m\n\u001b[0;32m      1\u001b[0m \u001b[1;31m# Membagi data menjadi data latih dan data uji\u001b[0m\u001b[1;33m\u001b[0m\u001b[1;33m\u001b[0m\u001b[0m\n\u001b[1;32m----> 2\u001b[1;33m \u001b[0mtrain_data\u001b[0m\u001b[1;33m,\u001b[0m \u001b[0mtest_data\u001b[0m \u001b[1;33m=\u001b[0m \u001b[0mtrain_test_split\u001b[0m\u001b[1;33m(\u001b[0m\u001b[0mdf\u001b[0m\u001b[1;33m,\u001b[0m \u001b[0mtest_size\u001b[0m\u001b[1;33m=\u001b[0m\u001b[1;36m0.2\u001b[0m\u001b[1;33m,\u001b[0m \u001b[0mrandom_state\u001b[0m\u001b[1;33m=\u001b[0m\u001b[1;36m42\u001b[0m\u001b[1;33m)\u001b[0m\u001b[1;33m\u001b[0m\u001b[1;33m\u001b[0m\u001b[0m\n\u001b[0m\u001b[0;32m      3\u001b[0m \u001b[1;33m\u001b[0m\u001b[0m\n\u001b[0;32m      4\u001b[0m \u001b[1;31m# Tokenisasi teks\u001b[0m\u001b[1;33m\u001b[0m\u001b[1;33m\u001b[0m\u001b[0m\n\u001b[0;32m      5\u001b[0m \u001b[0mtokenizer\u001b[0m \u001b[1;33m=\u001b[0m \u001b[0mTokenizer\u001b[0m\u001b[1;33m(\u001b[0m\u001b[1;33m)\u001b[0m\u001b[1;33m\u001b[0m\u001b[1;33m\u001b[0m\u001b[0m\n",
      "\u001b[1;31mNameError\u001b[0m: name 'train_test_split' is not defined"
     ]
    }
   ],
   "source": [
    "# Membagi data menjadi data latih dan data uji\n",
    "train_data, test_data = train_test_split(df, test_size=0.2, random_state=42)\n",
    "\n",
    "# Tokenisasi teks\n",
    "tokenizer = Tokenizer()\n",
    "tokenizer.fit_on_texts(train_data['gejala'])\n",
    "\n",
    "# Mengonversi teks ke dalam urutan angka\n",
    "train_sequences = tokenizer.texts_to_sequences(train_data['gejala'])\n",
    "test_sequences = tokenizer.texts_to_sequences(test_data['gejala'])\n",
    "\n",
    "# Padding urutan sehingga memiliki panjang yang sama\n",
    "max_len = max(max(len(seq) for seq in train_sequences), max(len(seq) for seq in test_sequences))\n",
    "train_padded = pad_sequences(train_sequences, maxlen=max_len, padding='post')\n",
    "test_padded = pad_sequences(test_sequences, maxlen=max_len, padding='post')"
   ]
  },
  {
   "cell_type": "code",
   "execution_count": 43,
   "id": "af03563b",
   "metadata": {},
   "outputs": [],
   "source": [
    "# Membuat model\n",
    "model = tf.keras.Sequential([\n",
    "    tf.keras.layers.Embedding(input_dim=len(tokenizer.word_index) + 1, output_dim=16, input_length=max_len),\n",
    "    tf.keras.layers.Flatten(),\n",
    "    tf.keras.layers.Dense(16, activation='relu'),\n",
    "    tf.keras.layers.Dense(1, activation='sigmoid')\n",
    "])\n",
    "\n",
    "# Compile model\n",
    "model.compile(optimizer='adam', loss='binary_crossentropy', metrics=['accuracy'])\n",
    "\n",
    "# Mengonversi label menjadi angka biner (0 atau 1)\n",
    "train_labels = (train_data['kerusakan'] == 'kerusakan_mesin').astype(int)\n",
    "test_labels = (test_data['kerusakan'] == 'kerusakan_mesin').astype(int)"
   ]
  },
  {
   "cell_type": "code",
   "execution_count": 44,
   "id": "d1428ecf",
   "metadata": {},
   "outputs": [
    {
     "name": "stdout",
     "output_type": "stream",
     "text": [
      "Epoch 1/10\n",
      "1/1 [==============================] - 1s 1s/step - loss: 0.6933 - accuracy: 0.3333 - val_loss: 0.6780 - val_accuracy: 1.0000\n",
      "Epoch 2/10\n",
      "1/1 [==============================] - 0s 76ms/step - loss: 0.6890 - accuracy: 0.6667 - val_loss: 0.6785 - val_accuracy: 1.0000\n",
      "Epoch 3/10\n",
      "1/1 [==============================] - 0s 51ms/step - loss: 0.6846 - accuracy: 1.0000 - val_loss: 0.6790 - val_accuracy: 1.0000\n",
      "Epoch 4/10\n",
      "1/1 [==============================] - 0s 44ms/step - loss: 0.6808 - accuracy: 1.0000 - val_loss: 0.6794 - val_accuracy: 1.0000\n",
      "Epoch 5/10\n",
      "1/1 [==============================] - 0s 53ms/step - loss: 0.6769 - accuracy: 1.0000 - val_loss: 0.6798 - val_accuracy: 1.0000\n",
      "Epoch 6/10\n",
      "1/1 [==============================] - 0s 52ms/step - loss: 0.6736 - accuracy: 1.0000 - val_loss: 0.6801 - val_accuracy: 1.0000\n",
      "Epoch 7/10\n",
      "1/1 [==============================] - 0s 49ms/step - loss: 0.6705 - accuracy: 1.0000 - val_loss: 0.6805 - val_accuracy: 1.0000\n",
      "Epoch 8/10\n",
      "1/1 [==============================] - 0s 54ms/step - loss: 0.6677 - accuracy: 1.0000 - val_loss: 0.6808 - val_accuracy: 1.0000\n",
      "Epoch 9/10\n",
      "1/1 [==============================] - 0s 44ms/step - loss: 0.6648 - accuracy: 1.0000 - val_loss: 0.6811 - val_accuracy: 1.0000\n",
      "Epoch 10/10\n",
      "1/1 [==============================] - 0s 53ms/step - loss: 0.6621 - accuracy: 1.0000 - val_loss: 0.6814 - val_accuracy: 1.0000\n",
      "1/1 [==============================] - 0s 21ms/step - loss: 0.6814 - accuracy: 1.0000\n",
      "Loss: 0.6814217567443848, Accuracy: 1.0\n"
     ]
    }
   ],
   "source": [
    "# Melatih model\n",
    "model.fit(train_padded, train_labels, epochs=10, validation_data=(test_padded, test_labels))\n",
    "\n",
    "# Evaluasi model\n",
    "loss, accuracy = model.evaluate(test_padded, test_labels)\n",
    "print(f'Loss: {loss}, Accuracy: {accuracy}')"
   ]
  },
  {
   "cell_type": "code",
   "execution_count": 45,
   "id": "64d59c81",
   "metadata": {},
   "outputs": [
    {
     "name": "stdout",
     "output_type": "stream",
     "text": [
      "1/1 [==============================] - 0s 73ms/step\n",
      "Gejala: mesin sulit dinyalakan, Prediksi: Kerusakan Mesin\n",
      "Gejala: lampu rem mati, Prediksi: Kerusakan Mesin\n",
      "Gejala: knalpot bocor, Prediksi: Tidak Ada Kerusakan Mesin\n"
     ]
    }
   ],
   "source": [
    "# Gunakan model untuk membuat prediksi\n",
    "new_texts = ['mesin sulit dinyalakan', 'lampu rem mati', 'knalpot bocor']\n",
    "new_sequences = tokenizer.texts_to_sequences(new_texts)\n",
    "new_padded = pad_sequences(new_sequences, maxlen=max_len, padding='post')\n",
    "predictions = model.predict(new_padded)\n",
    "\n",
    "# Tampilkan hasil prediksi\n",
    "for i, text in enumerate(new_texts):\n",
    "    print(f'Gejala: {text}, Prediksi: {\"Kerusakan Mesin\" if predictions[i] > 0.5 else \"Tidak Ada Kerusakan Mesin\"}')"
   ]
  },
  {
   "cell_type": "code",
   "execution_count": null,
   "id": "f5636c80",
   "metadata": {},
   "outputs": [],
   "source": []
  }
 ],
 "metadata": {
  "kernelspec": {
   "display_name": "Python 3 (ipykernel)",
   "language": "python",
   "name": "python3"
  },
  "language_info": {
   "codemirror_mode": {
    "name": "ipython",
    "version": 3
   },
   "file_extension": ".py",
   "mimetype": "text/x-python",
   "name": "python",
   "nbconvert_exporter": "python",
   "pygments_lexer": "ipython3",
   "version": "3.9.13"
  }
 },
 "nbformat": 4,
 "nbformat_minor": 5
}
